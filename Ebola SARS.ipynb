{
 "cells": [
  {
   "cell_type": "code",
   "execution_count": 1,
   "metadata": {},
   "outputs": [],
   "source": [
    "import matplotlib.pyplot as plt\n",
    "import pandas as pd\n",
    "import numpy as np\n",
    "import requests\n",
    "import os\n",
    "import matplotlib.dates as mdates\n",
    "from matplotlib.ticker import (MultipleLocator, FormatStrFormatter,\n",
    "                               AutoMinorLocator)"
   ]
  },
  {
   "cell_type": "code",
   "execution_count": 2,
   "metadata": {},
   "outputs": [
    {
     "data": {
      "text/html": [
       "<div>\n",
       "<style scoped>\n",
       "    .dataframe tbody tr th:only-of-type {\n",
       "        vertical-align: middle;\n",
       "    }\n",
       "\n",
       "    .dataframe tbody tr th {\n",
       "        vertical-align: top;\n",
       "    }\n",
       "\n",
       "    .dataframe thead th {\n",
       "        text-align: right;\n",
       "    }\n",
       "</style>\n",
       "<table border=\"1\" class=\"dataframe\">\n",
       "  <thead>\n",
       "    <tr style=\"text-align: right;\">\n",
       "      <th></th>\n",
       "      <th>Country</th>\n",
       "      <th>Date</th>\n",
       "      <th>Cumulative no. of confirmed, probable and suspected cases</th>\n",
       "      <th>Cumulative no. of confirmed, probable and suspected deaths</th>\n",
       "    </tr>\n",
       "  </thead>\n",
       "  <tbody>\n",
       "    <tr>\n",
       "      <th>0</th>\n",
       "      <td>Guinea</td>\n",
       "      <td>2014-08-29</td>\n",
       "      <td>648.0</td>\n",
       "      <td>430.0</td>\n",
       "    </tr>\n",
       "    <tr>\n",
       "      <th>1</th>\n",
       "      <td>Nigeria</td>\n",
       "      <td>2014-08-29</td>\n",
       "      <td>19.0</td>\n",
       "      <td>7.0</td>\n",
       "    </tr>\n",
       "    <tr>\n",
       "      <th>2</th>\n",
       "      <td>Sierra Leone</td>\n",
       "      <td>2014-08-29</td>\n",
       "      <td>1026.0</td>\n",
       "      <td>422.0</td>\n",
       "    </tr>\n",
       "    <tr>\n",
       "      <th>3</th>\n",
       "      <td>Liberia</td>\n",
       "      <td>2014-08-29</td>\n",
       "      <td>1378.0</td>\n",
       "      <td>694.0</td>\n",
       "    </tr>\n",
       "    <tr>\n",
       "      <th>4</th>\n",
       "      <td>Sierra Leone</td>\n",
       "      <td>2014-09-05</td>\n",
       "      <td>1261.0</td>\n",
       "      <td>491.0</td>\n",
       "    </tr>\n",
       "    <tr>\n",
       "      <th>...</th>\n",
       "      <td>...</td>\n",
       "      <td>...</td>\n",
       "      <td>...</td>\n",
       "      <td>...</td>\n",
       "    </tr>\n",
       "    <tr>\n",
       "      <th>2480</th>\n",
       "      <td>Liberia</td>\n",
       "      <td>2016-03-23</td>\n",
       "      <td>10666.0</td>\n",
       "      <td>4806.0</td>\n",
       "    </tr>\n",
       "    <tr>\n",
       "      <th>2481</th>\n",
       "      <td>Italy</td>\n",
       "      <td>2016-03-23</td>\n",
       "      <td>1.0</td>\n",
       "      <td>0.0</td>\n",
       "    </tr>\n",
       "    <tr>\n",
       "      <th>2482</th>\n",
       "      <td>Liberia</td>\n",
       "      <td>2016-03-23</td>\n",
       "      <td>5.0</td>\n",
       "      <td>4.0</td>\n",
       "    </tr>\n",
       "    <tr>\n",
       "      <th>2483</th>\n",
       "      <td>Nigeria</td>\n",
       "      <td>2016-03-23</td>\n",
       "      <td>20.0</td>\n",
       "      <td>8.0</td>\n",
       "    </tr>\n",
       "    <tr>\n",
       "      <th>2484</th>\n",
       "      <td>United States of America</td>\n",
       "      <td>2016-03-23</td>\n",
       "      <td>4.0</td>\n",
       "      <td>1.0</td>\n",
       "    </tr>\n",
       "  </tbody>\n",
       "</table>\n",
       "<p>2485 rows × 4 columns</p>\n",
       "</div>"
      ],
      "text/plain": [
       "                       Country        Date  \\\n",
       "0                       Guinea  2014-08-29   \n",
       "1                      Nigeria  2014-08-29   \n",
       "2                 Sierra Leone  2014-08-29   \n",
       "3                      Liberia  2014-08-29   \n",
       "4                 Sierra Leone  2014-09-05   \n",
       "...                        ...         ...   \n",
       "2480                   Liberia  2016-03-23   \n",
       "2481                     Italy  2016-03-23   \n",
       "2482                   Liberia  2016-03-23   \n",
       "2483                   Nigeria  2016-03-23   \n",
       "2484  United States of America  2016-03-23   \n",
       "\n",
       "      Cumulative no. of confirmed, probable and suspected cases  \\\n",
       "0                                                 648.0           \n",
       "1                                                  19.0           \n",
       "2                                                1026.0           \n",
       "3                                                1378.0           \n",
       "4                                                1261.0           \n",
       "...                                                 ...           \n",
       "2480                                            10666.0           \n",
       "2481                                                1.0           \n",
       "2482                                                5.0           \n",
       "2483                                               20.0           \n",
       "2484                                                4.0           \n",
       "\n",
       "      Cumulative no. of confirmed, probable and suspected deaths  \n",
       "0                                                 430.0           \n",
       "1                                                   7.0           \n",
       "2                                                 422.0           \n",
       "3                                                 694.0           \n",
       "4                                                 491.0           \n",
       "...                                                 ...           \n",
       "2480                                             4806.0           \n",
       "2481                                                0.0           \n",
       "2482                                                4.0           \n",
       "2483                                                8.0           \n",
       "2484                                                1.0           \n",
       "\n",
       "[2485 rows x 4 columns]"
      ]
     },
     "execution_count": 2,
     "metadata": {},
     "output_type": "execute_result"
    }
   ],
   "source": [
    "ebola_df = pd.read_csv('Resources/ebola.csv')\n",
    "ebola_df\n",
    "#ebola_df.rename(columns={\"Cumulative no. of confirmed, probable and suspected cases\": \"Cumulative cases\", \"Cumulative no. of confirmed, probable and suspected deaths\": \"Cumulative Deaths\"})"
   ]
  },
  {
   "cell_type": "code",
   "execution_count": 3,
   "metadata": {},
   "outputs": [
    {
     "data": {
      "text/plain": [
       "array(['Guinea', 'Nigeria', 'Sierra Leone', 'Liberia', 'Senegal',\n",
       "       'United States of America', 'Spain', 'Mali', 'United Kingdom',\n",
       "       'Italy'], dtype=object)"
      ]
     },
     "execution_count": 3,
     "metadata": {},
     "output_type": "execute_result"
    }
   ],
   "source": [
    "#list of countries\n",
    "ebola_df.Country.unique()"
   ]
  },
  {
   "cell_type": "code",
   "execution_count": 4,
   "metadata": {},
   "outputs": [
    {
     "data": {
      "image/png": "[encoded data removed]",
      "text/plain": [
       "<Figure size 1440x1080 with 1 Axes>"
      ]
     },
     "metadata": {
      "needs_background": "light"
     },
     "output_type": "display_data"
    }
   ],
   "source": [
    "#Cumulative line graph of cases over time per country\n",
    "\n",
    "#Countries with high number of cases\n",
    "#Guinea\n",
    "guinea_df=ebola_df.loc[ebola_df[\"Country\"]==\"Guinea\"]\n",
    "guinea_cases= guinea_df[\"Cumulative no. of confirmed, probable and suspected cases\"]\n",
    "x_axis1=guinea_df[\"Date\"]\n",
    "y_axis1=guinea_cases\n",
    "fig= plt.figure(figsize=(20,15))\n",
    "line1 = plt.plot(x_axis1, y_axis1, color=\"darkturquoise\", label=\"Guinea\")\n",
    "\n",
    "#Sierra Leone\n",
    "sierraleone_df=ebola_df.loc[ebola_df[\"Country\"]==\"Sierra Leone\"]\n",
    "sierraleone_cases= sierraleone_df['Cumulative no. of confirmed, probable and suspected cases']\n",
    "x_axis3=sierraleone_df[\"Date\"]\n",
    "y_axis3=sierraleone_cases\n",
    "line3 = plt.plot(x_axis3, y_axis3, color=\"darkviolet\", label=\"Sierra Leone\")\n",
    "\n",
    "#Liberia\n",
    "liberia_df=ebola_df.loc[ebola_df[\"Country\"]==\"Liberia\"]\n",
    "liberia_df=liberia_df.loc[liberia_df[\"Cumulative no. of confirmed, probable and suspected cases\"]>=1378]\n",
    "liberia_cases= liberia_df['Cumulative no. of confirmed, probable and suspected cases']\n",
    "x_axis4=liberia_df[\"Date\"]\n",
    "y_axis4=liberia_cases\n",
    "line4 = plt.plot(x_axis4, y_axis4, color=\"cornflowerblue\", label=\"Liberia\")\n",
    "\n",
    "\n",
    "plt.legend(loc=\"best\")\n",
    "plt.ylabel('Cumulative cases')\n",
    "plt.xlabel(\"Date\")\n",
    "plt.title('Cumulative Ebola Cases over time')\n",
    "\n",
    "plt.xticks(np.arange(0, 300, step=20))\n",
    "plt.xticks(rotation=60) \n",
    "\n",
    "plt.grid()\n",
    "plt.show()\n",
    "\n",
    "\n",
    "#Countries with low number of cases\n",
    "\n",
    "# #Senegal\n",
    "# senegal_df=ebola_df.loc[ebola_df[\"Country\"]==\"Senegal\"]\n",
    "# senegal_cases= senegal_df['Cumulative no. of confirmed, probable and suspected cases']\n",
    "# x_axis5=senegal_df[\"Date\"]\n",
    "# y_axis5=senegal_cases\n",
    "# fig= plt.figure(figsize=(20,15))\n",
    "# line5 = plt.plot(x_axis5, y_axis5, color=\"red\", label=\"Senegal\")\n",
    "\n",
    "# #Nigeria\n",
    "# nigeria_df=ebola_df.loc[ebola_df[\"Country\"]==\"Nigeria\"]\n",
    "# nigeria_cases= nigeria_df['Cumulative no. of confirmed, probable and suspected cases']\n",
    "# nigeria_df=nigeria_df.loc[nigeria_df[\"Cumulative no. of confirmed, probable and suspected cases\"]>=19]\n",
    "# x_axis2=nigeria_df[\"Date\"]\n",
    "# y_axis2=nigeria_cases\n",
    "# line2 = plt.plot(x_axis2, y_axis2, color=\"darkblue\", label=\"Nigeria\")\n",
    "\n",
    "# #USA\n",
    "# usa_df=ebola_df.loc[ebola_df[\"Country\"]==\"United States of America\"]\n",
    "# usa_cases= usa_df['Cumulative no. of confirmed, probable and suspected cases']\n",
    "# x_axis6=usa_df[\"Date\"]\n",
    "# y_axis6=usa_cases\n",
    "# line6 = plt.plot(x_axis6, y_axis6, color=\"springgreen\", label=\"United States\")\n",
    "\n",
    "# #Spain\n",
    "# spain_df=ebola_df.loc[ebola_df[\"Country\"]==\"Spain\"]\n",
    "# spain_cases= spain_df['Cumulative no. of confirmed, probable and suspected cases']\n",
    "# x_axis7=spain_df[\"Date\"]\n",
    "# y_axis7=spain_cases\n",
    "# line7 = plt.plot(x_axis7, y_axis7, color=\"yellow\", label=\"Spain\")\n",
    "\n",
    "# #Mali\n",
    "# mali_df=ebola_df.loc[ebola_df[\"Country\"]==\"Mali\"]\n",
    "# mali_cases= mali_df['Cumulative no. of confirmed, probable and suspected cases']\n",
    "# x_axis8=mali_df[\"Date\"]\n",
    "# y_axis8=mali_cases\n",
    "# line8 = plt.plot(x_axis8, y_axis8, color=\"darkcyan\", label=\"Mali\")\n",
    "\n",
    "# plt.legend(loc=\"best\")\n",
    "# plt.ylabel('Cumulative cases')\n",
    "# plt.xlabel(\"Date\")\n",
    "# plt.title('Cumulative Ebola Cases over time')\n",
    "\n",
    "# plt.xticks(np.arange(0, 300, step=20))\n",
    "# plt.xticks(rotation=60) \n",
    "\n",
    "# plt.grid()\n",
    "# plt.show()\n",
    "\n",
    "#countries=['Guinea', 'Nigeria', 'Sierra Leone', 'Liberia', 'Senegal',\n",
    "       #'United States of America', 'Spain', 'Mali', 'United Kingdom',\n",
    "       #'Italy']"
   ]
  },
  {
   "cell_type": "code",
   "execution_count": 21,
   "metadata": {},
   "outputs": [
    {
     "data": {
      "image/png": "[encoded data removed]",
      "text/plain": [
       "<Figure size 1440x1080 with 1 Axes>"
      ]
     },
     "metadata": {
      "needs_background": "light"
     },
     "output_type": "display_data"
    }
   ],
   "source": [
    "#Cumulative line graph of the number of deaths over time per country\n",
    "\n",
    "#Guinea\n",
    "guinea_df=ebola_df.loc[ebola_df[\"Country\"]==\"Guinea\"]\n",
    "guinea_deaths= guinea_df[\"Cumulative no. of confirmed, probable and suspected deaths\"]\n",
    "x_axis1=guinea_df[\"Date\"]\n",
    "y_axis1=guinea_deaths\n",
    "fig= plt.figure(figsize=(20,15))\n",
    "line1 = plt.plot(x_axis1, y_axis1, color=\"darkturquoise\", label=\"Guinea\")\n",
    "#Sierra Leone\n",
    "sierraleone_df=ebola_df.loc[ebola_df[\"Country\"]==\"Sierra Leone\"]\n",
    "sierraleone_deaths= sierraleone_df['Cumulative no. of confirmed, probable and suspected deaths']\n",
    "x_axis3=sierraleone_df[\"Date\"]\n",
    "y_axis3=sierraleone_deaths\n",
    "line3 = plt.plot(x_axis3, y_axis3, color=\"darkviolet\", label=\"Sierra Leone\")\n",
    "#Liberia\n",
    "liberia_df=ebola_df.loc[ebola_df[\"Country\"]==\"Liberia\"]\n",
    "liberia_df=liberia_df.loc[liberia_df[\"Cumulative no. of confirmed, probable and suspected cases\"]>=694]\n",
    "liberia_deaths= liberia_df['Cumulative no. of confirmed, probable and suspected deaths']\n",
    "x_axis4=liberia_df[\"Date\"]\n",
    "y_axis4=liberia_deaths\n",
    "line4 = plt.plot(x_axis4, y_axis4, color=\"cornflowerblue\", label=\"Liberia\")\n",
    "\n",
    "plt.legend(loc=\"best\")\n",
    "plt.ylabel('Cumulative Deaths')\n",
    "plt.xlabel(\"Date\")\n",
    "plt.title('Cumulative Ebola Deaths over time')\n",
    "plt.xticks(np.arange(0, 300, step=20))\n",
    "plt.xticks(rotation=60) \n",
    "\n",
    "plt.grid()\n",
    "plt.show()"
   ]
  },
  {
   "cell_type": "code",
   "execution_count": 6,
   "metadata": {},
   "outputs": [],
   "source": [
    "# pie chart of cases per country"
   ]
  },
  {
   "cell_type": "code",
   "execution_count": 7,
   "metadata": {},
   "outputs": [
    {
     "data": {
      "text/html": [
       "<div>\n",
       "<style scoped>\n",
       "    .dataframe tbody tr th:only-of-type {\n",
       "        vertical-align: middle;\n",
       "    }\n",
       "\n",
       "    .dataframe tbody tr th {\n",
       "        vertical-align: top;\n",
       "    }\n",
       "\n",
       "    .dataframe thead th {\n",
       "        text-align: right;\n",
       "    }\n",
       "</style>\n",
       "<table border=\"1\" class=\"dataframe\">\n",
       "  <thead>\n",
       "    <tr style=\"text-align: right;\">\n",
       "      <th></th>\n",
       "      <th>Cumulative no. of confirmed, probable and suspected cases</th>\n",
       "    </tr>\n",
       "    <tr>\n",
       "      <th>Country</th>\n",
       "      <th></th>\n",
       "    </tr>\n",
       "  </thead>\n",
       "  <tbody>\n",
       "    <tr>\n",
       "      <th>Guinea</th>\n",
       "      <td>3810.0</td>\n",
       "    </tr>\n",
       "    <tr>\n",
       "      <th>Liberia</th>\n",
       "      <td>10666.0</td>\n",
       "    </tr>\n",
       "    <tr>\n",
       "      <th>Sierra Leone</th>\n",
       "      <td>14122.0</td>\n",
       "    </tr>\n",
       "  </tbody>\n",
       "</table>\n",
       "</div>"
      ],
      "text/plain": [
       "              Cumulative no. of confirmed, probable and suspected cases\n",
       "Country                                                                \n",
       "Guinea                                                   3810.0        \n",
       "Liberia                                                 10666.0        \n",
       "Sierra Leone                                            14122.0        "
      ]
     },
     "execution_count": 7,
     "metadata": {},
     "output_type": "execute_result"
    }
   ],
   "source": [
    "#bar chart of total cases per country\n",
    "top_three=['Liberia', 'Sierra Leone', 'Guinea']\n",
    "ebola_countries_df=ebola_df[ebola_df.Country.isin(top_three)]\n",
    "ebola_countries_df\n",
    "total_cases= ebola_countries_df.groupby([\"Country\"])[\"Cumulative no. of confirmed, probable and suspected cases\"].max()\n",
    "total_cases.to_frame()"
   ]
  },
  {
   "cell_type": "code",
   "execution_count": 8,
   "metadata": {},
   "outputs": [
    {
     "data": {
      "text/plain": [
       "Text(0.5, 1.0, 'Total ebola cases per country')"
      ]
     },
     "execution_count": 8,
     "metadata": {},
     "output_type": "execute_result"
    },
    {
     "data": {
      "image/png": "[encoded data removed]",
      "text/plain": [
       "<Figure size 720x720 with 1 Axes>"
      ]
     },
     "metadata": {
      "needs_background": "light"
     },
     "output_type": "display_data"
    }
   ],
   "source": [
    "#bar graph\n",
    "fig= plt.figure(figsize=(10,10))\n",
    "total_cases.plot(kind=\"bar\", color= 'cornflowerblue')\n",
    "plt.xlabel(\"Country\")\n",
    "plt.xticks(rotation=60)\n",
    "plt.ylabel(\"Number of cases\")\n",
    "plt.title(\"Total ebola cases per country\")"
   ]
  },
  {
   "cell_type": "code",
   "execution_count": 9,
   "metadata": {},
   "outputs": [
    {
     "data": {
      "text/html": [
       "<div>\n",
       "<style scoped>\n",
       "    .dataframe tbody tr th:only-of-type {\n",
       "        vertical-align: middle;\n",
       "    }\n",
       "\n",
       "    .dataframe tbody tr th {\n",
       "        vertical-align: top;\n",
       "    }\n",
       "\n",
       "    .dataframe thead th {\n",
       "        text-align: right;\n",
       "    }\n",
       "</style>\n",
       "<table border=\"1\" class=\"dataframe\">\n",
       "  <thead>\n",
       "    <tr style=\"text-align: right;\">\n",
       "      <th></th>\n",
       "      <th>Cumulative no. of confirmed, probable and suspected deaths</th>\n",
       "    </tr>\n",
       "    <tr>\n",
       "      <th>Country</th>\n",
       "      <th></th>\n",
       "    </tr>\n",
       "  </thead>\n",
       "  <tbody>\n",
       "    <tr>\n",
       "      <th>Guinea</th>\n",
       "      <td>2536.0</td>\n",
       "    </tr>\n",
       "    <tr>\n",
       "      <th>Liberia</th>\n",
       "      <td>4806.0</td>\n",
       "    </tr>\n",
       "    <tr>\n",
       "      <th>Sierra Leone</th>\n",
       "      <td>3955.0</td>\n",
       "    </tr>\n",
       "  </tbody>\n",
       "</table>\n",
       "</div>"
      ],
      "text/plain": [
       "              Cumulative no. of confirmed, probable and suspected deaths\n",
       "Country                                                                 \n",
       "Guinea                                                   2536.0         \n",
       "Liberia                                                  4806.0         \n",
       "Sierra Leone                                             3955.0         "
      ]
     },
     "execution_count": 9,
     "metadata": {},
     "output_type": "execute_result"
    }
   ],
   "source": [
    "total_deaths= ebola_countries_df.groupby([\"Country\"])[\"Cumulative no. of confirmed, probable and suspected deaths\"].max()\n",
    "total_deaths.to_frame()"
   ]
  },
  {
   "cell_type": "code",
   "execution_count": 10,
   "metadata": {},
   "outputs": [
    {
     "data": {
      "text/plain": [
       "Text(0.5, 1.0, 'Total ebola deaths per country')"
      ]
     },
     "execution_count": 10,
     "metadata": {},
     "output_type": "execute_result"
    },
    {
     "data": {
      "image/png": "[encoded data removed]",
      "text/plain": [
       "<Figure size 720x720 with 1 Axes>"
      ]
     },
     "metadata": {
      "needs_background": "light"
     },
     "output_type": "display_data"
    }
   ],
   "source": [
    "#bar chart deaths\n",
    "fig= plt.figure(figsize=(10,10))\n",
    "total_deaths.plot(kind=\"bar\", color= 'teal')\n",
    "plt.xlabel(\"Country\")\n",
    "plt.xticks(rotation=60)\n",
    "plt.ylabel(\"Number of deaths\")\n",
    "plt.title(\"Total ebola deaths per country\")"
   ]
  },
  {
   "cell_type": "code",
   "execution_count": 25,
   "metadata": {},
   "outputs": [
    {
     "data": {
      "text/html": [
       "<div>\n",
       "<style scoped>\n",
       "    .dataframe tbody tr th:only-of-type {\n",
       "        vertical-align: middle;\n",
       "    }\n",
       "\n",
       "    .dataframe tbody tr th {\n",
       "        vertical-align: top;\n",
       "    }\n",
       "\n",
       "    .dataframe thead th {\n",
       "        text-align: right;\n",
       "    }\n",
       "</style>\n",
       "<table border=\"1\" class=\"dataframe\">\n",
       "  <thead>\n",
       "    <tr style=\"text-align: right;\">\n",
       "      <th></th>\n",
       "      <th>0</th>\n",
       "    </tr>\n",
       "    <tr>\n",
       "      <th>Country</th>\n",
       "      <th></th>\n",
       "    </tr>\n",
       "  </thead>\n",
       "  <tbody>\n",
       "    <tr>\n",
       "      <th>Guinea</th>\n",
       "      <td>66.561680</td>\n",
       "    </tr>\n",
       "    <tr>\n",
       "      <th>Liberia</th>\n",
       "      <td>45.059066</td>\n",
       "    </tr>\n",
       "    <tr>\n",
       "      <th>Sierra Leone</th>\n",
       "      <td>28.005948</td>\n",
       "    </tr>\n",
       "  </tbody>\n",
       "</table>\n",
       "</div>"
      ],
      "text/plain": [
       "                      0\n",
       "Country                \n",
       "Guinea        66.561680\n",
       "Liberia       45.059066\n",
       "Sierra Leone  28.005948"
      ]
     },
     "execution_count": 25,
     "metadata": {},
     "output_type": "execute_result"
    }
   ],
   "source": [
    "death_rate=(total_deaths/total_cases)*100\n",
    "#death_rate.rename(columns={\"0\": \"Death Rate Percent\"})\n",
    "#death_rate.columns = ['Country', 'Fatality Rate Percent']\n",
    "death_rate.to_frame()\n",
    "#death_rate.reset_index()\n",
    "#death_rate.rename(columns={\"0\":\"Death Rate Percentage\"})"
   ]
  },
  {
   "cell_type": "code",
   "execution_count": 12,
   "metadata": {},
   "outputs": [
    {
     "data": {
      "text/html": [
       "<div>\n",
       "<style scoped>\n",
       "    .dataframe tbody tr th:only-of-type {\n",
       "        vertical-align: middle;\n",
       "    }\n",
       "\n",
       "    .dataframe tbody tr th {\n",
       "        vertical-align: top;\n",
       "    }\n",
       "\n",
       "    .dataframe thead th {\n",
       "        text-align: right;\n",
       "    }\n",
       "</style>\n",
       "<table border=\"1\" class=\"dataframe\">\n",
       "  <thead>\n",
       "    <tr style=\"text-align: right;\">\n",
       "      <th></th>\n",
       "      <th>Cumulative no. of confirmed, probable and suspected cases</th>\n",
       "    </tr>\n",
       "    <tr>\n",
       "      <th>Country</th>\n",
       "      <th></th>\n",
       "    </tr>\n",
       "  </thead>\n",
       "  <tbody>\n",
       "    <tr>\n",
       "      <th>Guinea</th>\n",
       "      <td>3810.0</td>\n",
       "    </tr>\n",
       "    <tr>\n",
       "      <th>Italy</th>\n",
       "      <td>1.0</td>\n",
       "    </tr>\n",
       "    <tr>\n",
       "      <th>Liberia</th>\n",
       "      <td>10666.0</td>\n",
       "    </tr>\n",
       "    <tr>\n",
       "      <th>Mali</th>\n",
       "      <td>8.0</td>\n",
       "    </tr>\n",
       "    <tr>\n",
       "      <th>Nigeria</th>\n",
       "      <td>22.0</td>\n",
       "    </tr>\n",
       "    <tr>\n",
       "      <th>Senegal</th>\n",
       "      <td>3.0</td>\n",
       "    </tr>\n",
       "    <tr>\n",
       "      <th>Sierra Leone</th>\n",
       "      <td>14122.0</td>\n",
       "    </tr>\n",
       "    <tr>\n",
       "      <th>Spain</th>\n",
       "      <td>1.0</td>\n",
       "    </tr>\n",
       "    <tr>\n",
       "      <th>United Kingdom</th>\n",
       "      <td>1.0</td>\n",
       "    </tr>\n",
       "    <tr>\n",
       "      <th>United States of America</th>\n",
       "      <td>4.0</td>\n",
       "    </tr>\n",
       "  </tbody>\n",
       "</table>\n",
       "</div>"
      ],
      "text/plain": [
       "                          Cumulative no. of confirmed, probable and suspected cases\n",
       "Country                                                                            \n",
       "Guinea                                                               3810.0        \n",
       "Italy                                                                   1.0        \n",
       "Liberia                                                             10666.0        \n",
       "Mali                                                                    8.0        \n",
       "Nigeria                                                                22.0        \n",
       "Senegal                                                                 3.0        \n",
       "Sierra Leone                                                        14122.0        \n",
       "Spain                                                                   1.0        \n",
       "United Kingdom                                                          1.0        \n",
       "United States of America                                                4.0        "
      ]
     },
     "execution_count": 12,
     "metadata": {},
     "output_type": "execute_result"
    }
   ],
   "source": [
    "total_cases_world= ebola_df.groupby([\"Country\"])[\"Cumulative no. of confirmed, probable and suspected cases\"].max()\n",
    "total_cases_world.to_frame()"
   ]
  },
  {
   "cell_type": "code",
   "execution_count": 13,
   "metadata": {},
   "outputs": [
    {
     "data": {
      "text/plain": [
       "28638.0"
      ]
     },
     "execution_count": 13,
     "metadata": {},
     "output_type": "execute_result"
    }
   ],
   "source": [
    "total_cases_sum= total_cases_world.sum()\n",
    "total_cases_sum"
   ]
  },
  {
   "cell_type": "code",
   "execution_count": 14,
   "metadata": {},
   "outputs": [
    {
     "data": {
      "text/html": [
       "<div>\n",
       "<style scoped>\n",
       "    .dataframe tbody tr th:only-of-type {\n",
       "        vertical-align: middle;\n",
       "    }\n",
       "\n",
       "    .dataframe tbody tr th {\n",
       "        vertical-align: top;\n",
       "    }\n",
       "\n",
       "    .dataframe thead th {\n",
       "        text-align: right;\n",
       "    }\n",
       "</style>\n",
       "<table border=\"1\" class=\"dataframe\">\n",
       "  <thead>\n",
       "    <tr style=\"text-align: right;\">\n",
       "      <th></th>\n",
       "      <th>Cumulative no. of confirmed, probable and suspected deaths</th>\n",
       "    </tr>\n",
       "    <tr>\n",
       "      <th>Country</th>\n",
       "      <th></th>\n",
       "    </tr>\n",
       "  </thead>\n",
       "  <tbody>\n",
       "    <tr>\n",
       "      <th>Guinea</th>\n",
       "      <td>2536.0</td>\n",
       "    </tr>\n",
       "    <tr>\n",
       "      <th>Italy</th>\n",
       "      <td>0.0</td>\n",
       "    </tr>\n",
       "    <tr>\n",
       "      <th>Liberia</th>\n",
       "      <td>4806.0</td>\n",
       "    </tr>\n",
       "    <tr>\n",
       "      <th>Mali</th>\n",
       "      <td>6.0</td>\n",
       "    </tr>\n",
       "    <tr>\n",
       "      <th>Nigeria</th>\n",
       "      <td>8.0</td>\n",
       "    </tr>\n",
       "    <tr>\n",
       "      <th>Senegal</th>\n",
       "      <td>0.0</td>\n",
       "    </tr>\n",
       "    <tr>\n",
       "      <th>Sierra Leone</th>\n",
       "      <td>3955.0</td>\n",
       "    </tr>\n",
       "    <tr>\n",
       "      <th>Spain</th>\n",
       "      <td>0.0</td>\n",
       "    </tr>\n",
       "    <tr>\n",
       "      <th>United Kingdom</th>\n",
       "      <td>0.0</td>\n",
       "    </tr>\n",
       "    <tr>\n",
       "      <th>United States of America</th>\n",
       "      <td>1.0</td>\n",
       "    </tr>\n",
       "  </tbody>\n",
       "</table>\n",
       "</div>"
      ],
      "text/plain": [
       "                          Cumulative no. of confirmed, probable and suspected deaths\n",
       "Country                                                                             \n",
       "Guinea                                                               2536.0         \n",
       "Italy                                                                   0.0         \n",
       "Liberia                                                              4806.0         \n",
       "Mali                                                                    6.0         \n",
       "Nigeria                                                                 8.0         \n",
       "Senegal                                                                 0.0         \n",
       "Sierra Leone                                                         3955.0         \n",
       "Spain                                                                   0.0         \n",
       "United Kingdom                                                          0.0         \n",
       "United States of America                                                1.0         "
      ]
     },
     "execution_count": 14,
     "metadata": {},
     "output_type": "execute_result"
    }
   ],
   "source": [
    "total_deaths_world= ebola_df.groupby([\"Country\"])[\"Cumulative no. of confirmed, probable and suspected deaths\"].max()\n",
    "total_deaths_world.to_frame()"
   ]
  },
  {
   "cell_type": "code",
   "execution_count": 15,
   "metadata": {},
   "outputs": [
    {
     "data": {
      "text/plain": [
       "11312.0"
      ]
     },
     "execution_count": 15,
     "metadata": {},
     "output_type": "execute_result"
    }
   ],
   "source": [
    "total_deaths_sum= total_deaths_world.sum()\n",
    "total_deaths_sum"
   ]
  },
  {
   "cell_type": "code",
   "execution_count": 16,
   "metadata": {},
   "outputs": [
    {
     "data": {
      "text/plain": [
       "39.5"
      ]
     },
     "execution_count": 16,
     "metadata": {},
     "output_type": "execute_result"
    }
   ],
   "source": [
    "avg_death_rate= (total_deaths_sum/total_cases_sum)*100\n",
    "avg_death_rate.round(2)"
   ]
  },
  {
   "cell_type": "code",
   "execution_count": 17,
   "metadata": {},
   "outputs": [
    {
     "data": {
      "text/html": [
       "<div>\n",
       "<style scoped>\n",
       "    .dataframe tbody tr th:only-of-type {\n",
       "        vertical-align: middle;\n",
       "    }\n",
       "\n",
       "    .dataframe tbody tr th {\n",
       "        vertical-align: top;\n",
       "    }\n",
       "\n",
       "    .dataframe thead th {\n",
       "        text-align: right;\n",
       "    }\n",
       "</style>\n",
       "<table border=\"1\" class=\"dataframe\">\n",
       "  <thead>\n",
       "    <tr style=\"text-align: right;\">\n",
       "      <th></th>\n",
       "      <th>Country</th>\n",
       "      <th>Population (2014)</th>\n",
       "    </tr>\n",
       "  </thead>\n",
       "  <tbody>\n",
       "    <tr>\n",
       "      <th>0</th>\n",
       "      <td>Spain</td>\n",
       "      <td>46480882</td>\n",
       "    </tr>\n",
       "    <tr>\n",
       "      <th>1</th>\n",
       "      <td>United Kingdom</td>\n",
       "      <td>64602298</td>\n",
       "    </tr>\n",
       "    <tr>\n",
       "      <th>2</th>\n",
       "      <td>Guinea</td>\n",
       "      <td>11150977</td>\n",
       "    </tr>\n",
       "    <tr>\n",
       "      <th>3</th>\n",
       "      <td>Italy</td>\n",
       "      <td>60789140</td>\n",
       "    </tr>\n",
       "    <tr>\n",
       "      <th>4</th>\n",
       "      <td>Liberia</td>\n",
       "      <td>4359505</td>\n",
       "    </tr>\n",
       "    <tr>\n",
       "      <th>5</th>\n",
       "      <td>Mali</td>\n",
       "      <td>16934220</td>\n",
       "    </tr>\n",
       "    <tr>\n",
       "      <th>6</th>\n",
       "      <td>Nigeria</td>\n",
       "      <td>176404902</td>\n",
       "    </tr>\n",
       "    <tr>\n",
       "      <th>7</th>\n",
       "      <td>Senegal</td>\n",
       "      <td>14174731</td>\n",
       "    </tr>\n",
       "    <tr>\n",
       "      <th>8</th>\n",
       "      <td>Sierra Leone</td>\n",
       "      <td>7017144</td>\n",
       "    </tr>\n",
       "    <tr>\n",
       "      <th>9</th>\n",
       "      <td>United States of America</td>\n",
       "      <td>318301008</td>\n",
       "    </tr>\n",
       "  </tbody>\n",
       "</table>\n",
       "</div>"
      ],
      "text/plain": [
       "                    Country  Population (2014)\n",
       "0                     Spain           46480882\n",
       "1            United Kingdom           64602298\n",
       "2                    Guinea           11150977\n",
       "3                     Italy           60789140\n",
       "4                   Liberia            4359505\n",
       "5                      Mali           16934220\n",
       "6                   Nigeria          176404902\n",
       "7                   Senegal           14174731\n",
       "8              Sierra Leone            7017144\n",
       "9  United States of America          318301008"
      ]
     },
     "execution_count": 17,
     "metadata": {},
     "output_type": "execute_result"
    }
   ],
   "source": [
    "ebola_pop = pd.read_csv('Resources/Population by country.csv')\n",
    "ebola_pop\n",
    "ebola_pop.rename(columns={\"Country Name\":\"Country\"})"
   ]
  },
  {
   "cell_type": "code",
   "execution_count": 18,
   "metadata": {},
   "outputs": [
    {
     "data": {
      "text/html": [
       "<div>\n",
       "<style scoped>\n",
       "    .dataframe tbody tr th:only-of-type {\n",
       "        vertical-align: middle;\n",
       "    }\n",
       "\n",
       "    .dataframe tbody tr th {\n",
       "        vertical-align: top;\n",
       "    }\n",
       "\n",
       "    .dataframe thead th {\n",
       "        text-align: right;\n",
       "    }\n",
       "</style>\n",
       "<table border=\"1\" class=\"dataframe\">\n",
       "  <thead>\n",
       "    <tr style=\"text-align: right;\">\n",
       "      <th></th>\n",
       "      <th>Country</th>\n",
       "      <th>Cases</th>\n",
       "      <th>Deaths</th>\n",
       "      <th>Population</th>\n",
       "      <th>Cases per 10,000 population</th>\n",
       "      <th>Deaths per 10,000 population</th>\n",
       "    </tr>\n",
       "  </thead>\n",
       "  <tbody>\n",
       "    <tr>\n",
       "      <th>0</th>\n",
       "      <td>Guinea</td>\n",
       "      <td>3810</td>\n",
       "      <td>2536</td>\n",
       "      <td>11150977</td>\n",
       "      <td></td>\n",
       "      <td></td>\n",
       "    </tr>\n",
       "    <tr>\n",
       "      <th>1</th>\n",
       "      <td>Liberia</td>\n",
       "      <td>10666</td>\n",
       "      <td>4806</td>\n",
       "      <td>4359505</td>\n",
       "      <td></td>\n",
       "      <td></td>\n",
       "    </tr>\n",
       "    <tr>\n",
       "      <th>2</th>\n",
       "      <td>Sierra Leone</td>\n",
       "      <td>14122</td>\n",
       "      <td>3955</td>\n",
       "      <td>7017144</td>\n",
       "      <td></td>\n",
       "      <td></td>\n",
       "    </tr>\n",
       "  </tbody>\n",
       "</table>\n",
       "</div>"
      ],
      "text/plain": [
       "        Country  Cases  Deaths  Population Cases per 10,000 population  \\\n",
       "0        Guinea   3810    2536    11150977                               \n",
       "1       Liberia  10666    4806     4359505                               \n",
       "2  Sierra Leone  14122    3955     7017144                               \n",
       "\n",
       "  Deaths per 10,000 population  \n",
       "0                               \n",
       "1                               \n",
       "2                               "
      ]
     },
     "execution_count": 18,
     "metadata": {},
     "output_type": "execute_result"
    }
   ],
   "source": [
    "\n",
    "data = {'Country':['Guinea', 'Liberia', 'Sierra Leone'],\n",
    "        'Cases':[3810, 10666, 14122],\n",
    "        'Deaths':[2536,4806,3955],\n",
    "        'Population':[11150977,4359505 ,7017144 ]}                 \n",
    "\n",
    "# Create DataFrame\n",
    "cases_per_pop = pd.DataFrame(data)\n",
    "cases_per_pop\n",
    "\n",
    "cases_pop_df=cases_per_pop\n",
    "cases_pop_df['Cases per 10,000 population']= \"\"\n",
    "cases_pop_df['Deaths per 10,000 population']= \"\"\n",
    "cases_pop_df       \n",
    "\n"
   ]
  },
  {
   "cell_type": "code",
   "execution_count": 19,
   "metadata": {},
   "outputs": [
    {
     "data": {
      "text/html": [
       "<div>\n",
       "<style scoped>\n",
       "    .dataframe tbody tr th:only-of-type {\n",
       "        vertical-align: middle;\n",
       "    }\n",
       "\n",
       "    .dataframe tbody tr th {\n",
       "        vertical-align: top;\n",
       "    }\n",
       "\n",
       "    .dataframe thead th {\n",
       "        text-align: right;\n",
       "    }\n",
       "</style>\n",
       "<table border=\"1\" class=\"dataframe\">\n",
       "  <thead>\n",
       "    <tr style=\"text-align: right;\">\n",
       "      <th></th>\n",
       "      <th>Country</th>\n",
       "      <th>Cases</th>\n",
       "      <th>Deaths</th>\n",
       "      <th>Population</th>\n",
       "      <th>Cases per 10,000 population</th>\n",
       "      <th>Deaths per 10,000 population</th>\n",
       "    </tr>\n",
       "  </thead>\n",
       "  <tbody>\n",
       "    <tr>\n",
       "      <th>0</th>\n",
       "      <td>Guinea</td>\n",
       "      <td>3810</td>\n",
       "      <td>2536</td>\n",
       "      <td>11150977</td>\n",
       "      <td>3.42</td>\n",
       "      <td>2.27</td>\n",
       "    </tr>\n",
       "    <tr>\n",
       "      <th>1</th>\n",
       "      <td>Liberia</td>\n",
       "      <td>10666</td>\n",
       "      <td>4806</td>\n",
       "      <td>4359505</td>\n",
       "      <td>24.47</td>\n",
       "      <td>11.02</td>\n",
       "    </tr>\n",
       "    <tr>\n",
       "      <th>2</th>\n",
       "      <td>Sierra Leone</td>\n",
       "      <td>14122</td>\n",
       "      <td>3955</td>\n",
       "      <td>7017144</td>\n",
       "      <td>20.12</td>\n",
       "      <td>5.64</td>\n",
       "    </tr>\n",
       "  </tbody>\n",
       "</table>\n",
       "</div>"
      ],
      "text/plain": [
       "        Country  Cases  Deaths  Population  Cases per 10,000 population  \\\n",
       "0        Guinea   3810    2536    11150977                         3.42   \n",
       "1       Liberia  10666    4806     4359505                        24.47   \n",
       "2  Sierra Leone  14122    3955     7017144                        20.12   \n",
       "\n",
       "   Deaths per 10,000 population  \n",
       "0                          2.27  \n",
       "1                         11.02  \n",
       "2                          5.64  "
      ]
     },
     "execution_count": 19,
     "metadata": {},
     "output_type": "execute_result"
    }
   ],
   "source": [
    "cases_pop_df['Cases per 10,000 population']= ((cases_pop_df['Cases'])/(cases_pop_df['Population']))*10000\n",
    "cases_pop_df['Deaths per 10,000 population']= ((cases_pop_df['Deaths'])/(cases_pop_df['Population']))*10000\n",
    "cases_pop_df.round(2)"
   ]
  },
  {
   "cell_type": "code",
   "execution_count": 20,
   "metadata": {},
   "outputs": [],
   "source": [
    "#erged_df= pd.merge(ebola_df,ebola_pop,left_on=None)\n",
    "#merged_df= pd.merge(ebola_df,ebola_pop, left_on=None,how=\"inner\")"
   ]
  },
  {
   "cell_type": "markdown",
   "metadata": {},
   "source": [
    "Ebola is spread through direct contact with body fluids of an infected person. It is not airborne and cannot be spread until a person is showing syptoms of ebola"
   ]
  }
 ],
 "metadata": {
  "kernelspec": {
   "display_name": "Python [conda env:PythonData] *",
   "language": "python",
   "name": "conda-env-PythonData-py"
  },
  "language_info": {
   "codemirror_mode": {
    "name": "ipython",
    "version": 3
   },
   "file_extension": ".py",
   "mimetype": "text/x-python",
   "name": "python",
   "nbconvert_exporter": "python",
   "pygments_lexer": "ipython3",
   "version": "3.8.3"
  }
 },
 "nbformat": 4,
 "nbformat_minor": 4
}
